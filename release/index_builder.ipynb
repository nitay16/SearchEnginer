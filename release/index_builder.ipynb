{
 "cells": [
  {
   "cell_type": "markdown",
   "id": "a00e032c",
   "metadata": {
    "id": "hWgiQS0zkWJ5",
    "pycharm": {
     "name": "#%% md\n"
    }
   },
   "source": [
    "***Important*** DO NOT CLEAR THE OUTPUT OF THIS NOTEBOOK AFTER EXECUTION!!!"
   ]
  },
  {
   "cell_type": "code",
   "execution_count": 27,
   "id": "5ac36d3a",
   "metadata": {
    "id": "c0ccf76b",
    "nbgrader": {
     "grade": false,
     "grade_id": "cell-Worker_Count",
     "locked": true,
     "schema_version": 3,
     "solution": false,
     "task": false
    },
    "outputId": "cf88b954-f39a-412a-d87e-660833e735b6",
    "pycharm": {
     "is_executing": true,
     "name": "#%%\n"
    }
   },
   "outputs": [
    {
     "name": "stdout",
     "output_type": "stream",
     "text": [
      "NAME          PLATFORM  WORKER_COUNT  PREEMPTIBLE_WORKER_COUNT  STATUS   ZONE           SCHEDULED_DELETE\r\n",
      "cluster-d0cf  GCE       2                                       RUNNING  us-central1-c\r\n"
     ]
    }
   ],
   "source": [
    "# if the following command generates an error, you probably didn't enable \n",
    "# the cluster security option \"Allow API access to all Google Cloud services\"\n",
    "# under Manage Security → Project Access when setting up the cluster\n",
    "!gcloud dataproc clusters list --region us-central1"
   ]
  },
  {
   "cell_type": "markdown",
   "id": "51cf86c5",
   "metadata": {
    "id": "01ec9fd3",
    "pycharm": {
     "name": "#%% md\n"
    }
   },
   "source": [
    "# Imports & Setup"
   ]
  },
  {
   "cell_type": "code",
   "execution_count": 28,
   "id": "bf199e6a",
   "metadata": {
    "id": "32b3ec57",
    "nbgrader": {
     "grade": false,
     "grade_id": "cell-Setup",
     "locked": true,
     "schema_version": 3,
     "solution": false,
     "task": false
    },
    "outputId": "fc0e315d-21e9-411d-d69c-5b97e4e5d629",
    "pycharm": {
     "is_executing": true,
     "name": "#%%\n"
    }
   },
   "outputs": [
    {
     "name": "stdout",
     "output_type": "stream",
     "text": [
      "\u001B[33mWARNING: Running pip as the 'root' user can result in broken permissions and conflicting behaviour with the system package manager. It is recommended to use a virtual environment instead: https://pip.pypa.io/warnings/venv\u001B[0m\u001B[33m\n",
      "\u001B[0m\u001B[33mWARNING: Running pip as the 'root' user can result in broken permissions and conflicting behaviour with the system package manager. It is recommended to use a virtual environment instead: https://pip.pypa.io/warnings/venv\u001B[0m\u001B[33m\n",
      "\u001B[0m"
     ]
    }
   ],
   "source": [
    "!pip install -q google-cloud-storage==1.43.0\n",
    "!pip install -q graphframes"
   ]
  },
  {
   "cell_type": "code",
   "execution_count": 29,
   "id": "d8f56ecd",
   "metadata": {
    "id": "5609143b",
    "nbgrader": {
     "grade": false,
     "grade_id": "cell-Imports",
     "locked": true,
     "schema_version": 3,
     "solution": false,
     "task": false
    },
    "outputId": "a24aa24b-aa75-4823-83ca-1d7deef0f0de",
    "pycharm": {
     "is_executing": true,
     "name": "#%%\n"
    }
   },
   "outputs": [
    {
     "name": "stderr",
     "output_type": "stream",
     "text": [
      "[nltk_data] Downloading package stopwords to /root/nltk_data...\n",
      "[nltk_data]   Package stopwords is already up-to-date!\n"
     ]
    },
    {
     "data": {
      "text/plain": [
       "True"
      ]
     },
     "execution_count": 29,
     "metadata": {},
     "output_type": "execute_result"
    }
   ],
   "source": [
    "import pyspark\n",
    "import sys\n",
    "from collections import Counter, OrderedDict, defaultdict\n",
    "import itertools\n",
    "from itertools import islice, count, groupby\n",
    "import pandas as pd\n",
    "import os\n",
    "import re\n",
    "from operator import itemgetter\n",
    "import nltk\n",
    "from nltk.stem.porter import *\n",
    "from nltk.corpus import stopwords\n",
    "from time import time\n",
    "from pathlib import Path\n",
    "import pickle\n",
    "import pandas as pd\n",
    "from google.cloud import storage\n",
    "\n",
    "import hashlib\n",
    "def _hash(s):\n",
    "    return hashlib.blake2b(bytes(s, encoding='utf8'), digest_size=5).hexdigest()\n",
    "\n",
    "nltk.download('stopwords')"
   ]
  },
  {
   "cell_type": "code",
   "execution_count": 30,
   "id": "38a897f2",
   "metadata": {
    "id": "b10cc999",
    "nbgrader": {
     "grade": false,
     "grade_id": "cell-jar",
     "locked": true,
     "schema_version": 3,
     "solution": false,
     "task": false
    },
    "outputId": "8f93a7ec-71e0-49c1-fc81-9af385849a90",
    "pycharm": {
     "is_executing": true,
     "name": "#%%\n"
    }
   },
   "outputs": [
    {
     "name": "stdout",
     "output_type": "stream",
     "text": [
      "-rw-r--r-- 1 root root 247882 Jan  9 16:20 /usr/lib/spark/jars/graphframes-0.8.2-spark3.1-s_2.12.jar\r\n"
     ]
    }
   ],
   "source": [
    "# if nothing prints here you forgot to include the initialization script when starting the cluster\n",
    "!ls -l /usr/lib/spark/jars/graph*"
   ]
  },
  {
   "cell_type": "code",
   "execution_count": 31,
   "id": "47900073",
   "metadata": {
    "id": "d3f86f11",
    "nbgrader": {
     "grade": false,
     "grade_id": "cell-pyspark-import",
     "locked": true,
     "schema_version": 3,
     "solution": false,
     "task": false
    },
    "pycharm": {
     "name": "#%%\n"
    }
   },
   "outputs": [],
   "source": [
    "from pyspark.sql import *\n",
    "from pyspark.sql.functions import *\n",
    "from pyspark import SparkContext, SparkConf, SparkFiles\n",
    "from pyspark.sql import SQLContext\n",
    "from graphframes import *"
   ]
  },
  {
   "cell_type": "code",
   "execution_count": 32,
   "id": "72bed56b",
   "metadata": {
    "id": "5be6dc2a",
    "nbgrader": {
     "grade": false,
     "grade_id": "cell-spark-version",
     "locked": true,
     "schema_version": 3,
     "solution": false,
     "task": false
    },
    "outputId": "07b4e22b-a252-42fb-fe46-d9050e4e7ca8",
    "pycharm": {
     "is_executing": true,
     "name": "#%%\n"
    },
    "scrolled": true
   },
   "outputs": [
    {
     "data": {
      "text/html": [
       "\n",
       "            <div>\n",
       "                <p><b>SparkSession - hive</b></p>\n",
       "                \n",
       "        <div>\n",
       "            <p><b>SparkContext</b></p>\n",
       "\n",
       "            <p><a href=\"http://cluster-d0cf-m.c.manifest-glyph-370720.internal:34539\">Spark UI</a></p>\n",
       "\n",
       "            <dl>\n",
       "              <dt>Version</dt>\n",
       "                <dd><code>v3.1.3</code></dd>\n",
       "              <dt>Master</dt>\n",
       "                <dd><code>yarn</code></dd>\n",
       "              <dt>AppName</dt>\n",
       "                <dd><code>PySparkShell</code></dd>\n",
       "            </dl>\n",
       "        </div>\n",
       "        \n",
       "            </div>\n",
       "        "
      ],
      "text/plain": [
       "<pyspark.sql.session.SparkSession at 0x7f5e19cb5550>"
      ]
     },
     "execution_count": 32,
     "metadata": {},
     "output_type": "execute_result"
    }
   ],
   "source": [
    "spark"
   ]
  },
  {
   "cell_type": "code",
   "execution_count": 34,
   "id": "980e62a5",
   "metadata": {
    "id": "7adc1bf5",
    "nbgrader": {
     "grade": false,
     "grade_id": "cell-bucket_name",
     "locked": false,
     "schema_version": 3,
     "solution": true,
     "task": false
    },
    "pycharm": {
     "name": "#%%\n"
    }
   },
   "outputs": [
    {
     "name": "stdout",
     "output_type": "stream",
     "text": [
      "['gs://bucket_itamar/multistream10_preprocessed.parquet', 'gs://bucket_itamar/multistream11_part2_preprocessed.parquet', 'gs://bucket_itamar/multistream11_preprocessed.parquet', 'gs://bucket_itamar/multistream12_part2_preprocessed.parquet', 'gs://bucket_itamar/multistream12_preprocessed.parquet', 'gs://bucket_itamar/multistream13_part2_preprocessed.parquet', 'gs://bucket_itamar/multistream13_preprocessed.parquet', 'gs://bucket_itamar/multistream14_part2_preprocessed.parquet', 'gs://bucket_itamar/multistream14_preprocessed.parquet', 'gs://bucket_itamar/multistream15_part2_preprocessed.parquet', 'gs://bucket_itamar/multistream15_part3_preprocessed.parquet', 'gs://bucket_itamar/multistream15_preprocessed.parquet', 'gs://bucket_itamar/multistream16_part2_preprocessed.parquet', 'gs://bucket_itamar/multistream16_part3_preprocessed.parquet', 'gs://bucket_itamar/multistream16_preprocessed.parquet', 'gs://bucket_itamar/multistream17_part2_preprocessed.parquet', 'gs://bucket_itamar/multistream17_part3_preprocessed.parquet', 'gs://bucket_itamar/multistream17_preprocessed.parquet', 'gs://bucket_itamar/multistream18_part2_preprocessed.parquet', 'gs://bucket_itamar/multistream18_part3_preprocessed.parquet', 'gs://bucket_itamar/multistream18_preprocessed.parquet', 'gs://bucket_itamar/multistream19_part2_preprocessed.parquet', 'gs://bucket_itamar/multistream19_part3_preprocessed.parquet', 'gs://bucket_itamar/multistream19_preprocessed.parquet', 'gs://bucket_itamar/multistream1_preprocessed.parquet', 'gs://bucket_itamar/multistream20_part2_preprocessed.parquet', 'gs://bucket_itamar/multistream20_part3_preprocessed.parquet', 'gs://bucket_itamar/multistream20_preprocessed.parquet', 'gs://bucket_itamar/multistream21_part2_preprocessed.parquet', 'gs://bucket_itamar/multistream21_part3_preprocessed.parquet', 'gs://bucket_itamar/multistream21_preprocessed.parquet', 'gs://bucket_itamar/multistream22_part2_preprocessed.parquet', 'gs://bucket_itamar/multistream22_part3_preprocessed.parquet', 'gs://bucket_itamar/multistream22_part4_preprocessed.parquet', 'gs://bucket_itamar/multistream22_preprocessed.parquet', 'gs://bucket_itamar/multistream23_part2_preprocessed.parquet', 'gs://bucket_itamar/multistream23_part3_preprocessed.parquet', 'gs://bucket_itamar/multistream23_part4_preprocessed.parquet', 'gs://bucket_itamar/multistream23_preprocessed.parquet', 'gs://bucket_itamar/multistream24_part2_preprocessed.parquet', 'gs://bucket_itamar/multistream24_part3_preprocessed.parquet', 'gs://bucket_itamar/multistream24_part4_preprocessed.parquet', 'gs://bucket_itamar/multistream24_part5_preprocessed.parquet', 'gs://bucket_itamar/multistream24_preprocessed.parquet', 'gs://bucket_itamar/multistream25_part2_preprocessed.parquet', 'gs://bucket_itamar/multistream25_part3_preprocessed.parquet', 'gs://bucket_itamar/multistream25_part4_preprocessed.parquet', 'gs://bucket_itamar/multistream25_preprocessed.parquet', 'gs://bucket_itamar/multistream26_preprocessed.parquet', 'gs://bucket_itamar/multistream27_part2_preprocessed.parquet', 'gs://bucket_itamar/multistream27_part3_preprocessed.parquet', 'gs://bucket_itamar/multistream27_preprocessed.parquet', 'gs://bucket_itamar/multistream2_preprocessed.parquet', 'gs://bucket_itamar/multistream3_preprocessed.parquet', 'gs://bucket_itamar/multistream4_preprocessed.parquet', 'gs://bucket_itamar/multistream5_preprocessed.parquet', 'gs://bucket_itamar/multistream6_preprocessed.parquet', 'gs://bucket_itamar/multistream7_preprocessed.parquet', 'gs://bucket_itamar/multistream8_preprocessed.parquet', 'gs://bucket_itamar/multistream9_preprocessed.parquet']\n"
     ]
    }
   ],
   "source": [
    "# Put your bucket name below and make sure you can access it without an error\n",
    "bucket_name = 'bucket_itamar'\n",
    "full_path = f\"gs://{bucket_name}/\"\n",
    "paths=[]\n",
    "\n",
    "client = storage.Client()\n",
    "blobs = client.list_blobs(bucket_name)\n",
    "for b in blobs:\n",
    "    if b.name != 'graphframes.sh' and b.name.endswith(\"preprocessed.parquet\"):\n",
    "        paths.append(full_path+b.name)\n",
    "print(paths)"
   ]
  },
  {
   "cell_type": "markdown",
   "id": "cac891c2",
   "metadata": {
    "id": "13ZX4ervQkku",
    "pycharm": {
     "name": "#%% md\n"
    }
   },
   "source": [
    "***GCP setup is complete!*** If you got here without any errors you've earned 10 out of the 35 points of this part."
   ]
  },
  {
   "cell_type": "markdown",
   "id": "582c3f5e",
   "metadata": {
    "id": "c0b0f215",
    "pycharm": {
     "name": "#%% md\n"
    }
   },
   "source": [
    "# Building an inverted index"
   ]
  },
  {
   "cell_type": "markdown",
   "id": "481f2044",
   "metadata": {
    "id": "02f81c72",
    "pycharm": {
     "name": "#%% md\n"
    }
   },
   "source": [
    "Here, we read the entire corpus to an rdd, directly from Google Storage Bucket and use your code from Colab to construct an inverted index."
   ]
  },
  {
   "cell_type": "code",
   "execution_count": 35,
   "id": "e4c523e7",
   "metadata": {
    "id": "b1af29c9",
    "pycharm": {
     "name": "#%%\n"
    },
    "scrolled": false
   },
   "outputs": [
    {
     "name": "stderr",
     "output_type": "stream",
     "text": [
      "                                                                                \r"
     ]
    }
   ],
   "source": [
    "parquetFile = spark.read.parquet(*paths)\n",
    "\n",
    "#rdd for each type of index that we need (title , text(body), anchor_text)\n",
    "doc_title_pairs = parquetFile.select(\"title\", \"id\").rdd\n",
    "doc_body_pairs = parquetFile.select(\"text\", \"id\").rdd\n",
    "doc_anchor_pairs = parquetFile.select(\"anchor_text\", \"id\").rdd\n",
    "\n",
    "\n",
    "# need to do little manipulation on the anchor text rdd\n",
    "def make_string_from_anchor(input_string :str) -> str:\n",
    "    pattern = r\"(?<=text=\\')[^']+(?=\\')\"\n",
    "    matches = re.findall(pattern, input_string)\n",
    "    string_back = \"\"\n",
    "    for term in matches:\n",
    "        string_back += term + \" \"\n",
    "\n",
    "    return string_back\n",
    "doc_anchor_pairs = doc_anchor_pairs.map(lambda x: (Row(anchor_text=make_string_from_anchor(str(x[0]).lower()),id=x[1])))"
   ]
  },
  {
   "cell_type": "markdown",
   "id": "0d7e2971",
   "metadata": {
    "id": "f6375562",
    "pycharm": {
     "name": "#%% md\n"
    }
   },
   "source": [
    "We will count the number of pages to make sure we are looking at the entire corpus. The number of pages should be more than 6M"
   ]
  },
  {
   "cell_type": "code",
   "execution_count": 36,
   "id": "82881fbf",
   "metadata": {
    "id": "d89a7a9a",
    "pycharm": {
     "name": "#%%\n"
    }
   },
   "outputs": [
    {
     "name": "stderr",
     "output_type": "stream",
     "text": [
      "[Stage 2:======================================================>(122 + 2) / 124]\r"
     ]
    },
    {
     "name": "stdout",
     "output_type": "stream",
     "text": [
      "6348910\n"
     ]
    },
    {
     "name": "stderr",
     "output_type": "stream",
     "text": [
      "                                                                                \r"
     ]
    }
   ],
   "source": [
    "# Count number of wiki pages\n",
    "n = parquetFile.count()\n",
    "print(n)"
   ]
  },
  {
   "cell_type": "markdown",
   "id": "701811af",
   "metadata": {
    "id": "gaaIoFViXyTg",
    "pycharm": {
     "name": "#%% md\n"
    }
   },
   "source": [
    "Let's import the inverted index module. Note that you need to use the staff-provided version called `inverted_index_gcp.py`, which contains helper functions to writing and reading the posting files similar to the Colab version, but with writing done to a Google Cloud Storage bucket."
   ]
  },
  {
   "cell_type": "code",
   "execution_count": 37,
   "id": "121fe102",
   "metadata": {
    "id": "04371c88",
    "outputId": "327fe81b-80f4-4b3a-8894-e74720d92e35",
    "pycharm": {
     "is_executing": true,
     "name": "#%%\n"
    }
   },
   "outputs": [
    {
     "name": "stdout",
     "output_type": "stream",
     "text": [
      "inverted_index_gcp.py\r\n"
     ]
    }
   ],
   "source": [
    "# if nothing prints here you forgot to upload the file inverted_index_gcp.py to the home dir\n",
    "%cd -q /home/dataproc\n",
    "!ls inverted_index_gcp.py"
   ]
  },
  {
   "cell_type": "code",
   "execution_count": 38,
   "id": "57c101a8",
   "metadata": {
    "id": "2d3285d8",
    "pycharm": {
     "name": "#%%\n"
    },
    "scrolled": true
   },
   "outputs": [],
   "source": [
    "# adding our python module to the cluster\n",
    "sc.addFile(\"/home/dataproc/inverted_index_gcp.py\")\n",
    "sys.path.insert(0,SparkFiles.getRootDirectory())"
   ]
  },
  {
   "cell_type": "code",
   "execution_count": 39,
   "id": "c259c402",
   "metadata": {
    "id": "2477a5b9",
    "pycharm": {
     "name": "#%%\n"
    }
   },
   "outputs": [],
   "source": [
    "from inverted_index_gcp import InvertedIndex"
   ]
  },
  {
   "cell_type": "markdown",
   "id": "5540c727",
   "metadata": {
    "id": "72bcf46a",
    "pycharm": {
     "name": "#%% md\n"
    }
   },
   "source": [
    "# Func for the implementation of the invertIndex"
   ]
  },
  {
   "cell_type": "code",
   "execution_count": 40,
   "id": "f3ad8fea",
   "metadata": {
    "id": "a4b6ee29",
    "nbgrader": {
     "grade": false,
     "grade_id": "cell-token2bucket",
     "locked": false,
     "schema_version": 3,
     "solution": true,
     "task": false
    },
    "pycharm": {
     "name": "#%%\n"
    }
   },
   "outputs": [],
   "source": [
    "english_stopwords = frozenset(stopwords.words('english'))\n",
    "corpus_stopwords = [\"category\", \"references\", \"also\", \"external\", \"links\", \n",
    "                    \"may\", \"first\", \"see\", \"history\", \"people\", \"one\", \"two\", \n",
    "                    \"part\", \"thumb\", \"including\", \"second\", \"following\", \n",
    "                    \"many\", \"however\", \"would\", \"became\"]\n",
    "\n",
    "all_stopwords = english_stopwords.union(corpus_stopwords)\n",
    "RE_WORD = re.compile(r\"\"\"[\\#\\@\\w](['\\-]?\\w){2,24}\"\"\", re.UNICODE)\n",
    "\n",
    "NUM_BUCKETS = 124\n",
    "def token2bucket_id(token):\n",
    "  return int(_hash(token),16) % NUM_BUCKETS\n",
    "\n",
    "# PLACE YOUR CODE HERE\n",
    "def word_count(text, id):\n",
    "  ''' Count the frequency of each word in `text` (tf) that is not included in \n",
    "  `all_stopwords` and return entries that will go into our posting lists. \n",
    "  Parameters:\n",
    "  -----------\n",
    "    text: str\n",
    "      Text of one document\n",
    "    id: int\n",
    "      Document id\n",
    "  Returns:\n",
    "  --------\n",
    "    List of tuples\n",
    "      A list of (token, (doc_id, tf)) pairs \n",
    "      for example: [(\"Anarchism\", (12, 5)), ...]\n",
    "  '''\n",
    "  tokens = [token.group() for token in RE_WORD.finditer(text.lower())]\n",
    "  # YOUR CODE HERE\n",
    "  list_return= []\n",
    "  dictio= Counter()\n",
    "  for i in tokens:\n",
    "    if i in all_stopwords:\n",
    "      continue\n",
    "    elif i in dictio:\n",
    "      dictio.update({i:1})\n",
    "    else:\n",
    "      dictio[i]=1\n",
    "  for j in dictio:\n",
    "    list_return.append((j,(id,dictio[j])))\n",
    "  return list_return\n",
    "\n",
    "\n",
    "def reduce_word_counts(unsorted_pl):\n",
    "\n",
    "  ''' Returns a sorted posting list by wiki_id.\n",
    "  Parameters:\n",
    "  -----------\n",
    "    unsorted_pl: list of tuples\n",
    "      A list of (wiki_id, tf) tuples \n",
    "  Returns:\n",
    "  --------\n",
    "    list of tuples\n",
    "      A sorted posting list.\n",
    "  '''\n",
    "# YOUR CODE HERE\n",
    "  unsorted_pl=sorted(unsorted_pl, key=lambda x: x[0])\n",
    "  return unsorted_pl\n",
    "\n",
    "\n",
    "def calculate_df(postings):\n",
    "  ''' Takes a posting list RDD and calculate the df for each token.\n",
    "  Parameters:\n",
    "  -----------\n",
    "    postings: RDD\n",
    "      An RDD where each element is a (token, posting_list) pair.\n",
    "  Returns:\n",
    "  --------\n",
    "    RDD\n",
    "      An RDD where each element is a (token, df) pair.\n",
    "  '''\n",
    "  # YOUR CODE HERE\n",
    "  return postings.map(lambda rdd1: (rdd1[0],len(rdd1[1])))\n",
    "\n",
    "\n",
    "def partition_postings_and_write(postings, bucket_to_save):\n",
    "  ''' A function that partitions the posting lists into buckets, writes out \n",
    "  all posting lists in a bucket to disk, and returns the posting locations for \n",
    "  each bucket. Partitioning should be done through the use of `token2bucket` \n",
    "  above. Writing to disk should use the function  `write_a_posting_list`, a \n",
    "  static method implemented in inverted_index_colab.py under the InvertedIndex \n",
    "  class. \n",
    "  Parameters:\n",
    "  -----------\n",
    "    postings: RDD\n",
    "      An RDD where each item is a (w, posting_list) pair.\n",
    "  Returns:\n",
    "  --------\n",
    "    RDD\n",
    "      An RDD where each item is a posting locations dictionary for a bucket. The\n",
    "      posting locations maintain a list for each word of file locations and \n",
    "      offsets its posting list was written to. See `write_a_posting_list` for \n",
    "      more details.\n",
    "  '''\n",
    "  # YOUR CODE HERE\n",
    "  rdd_expbefore_reduce= postings.map(lambda tup:(token2bucket_id(tup[0]),[(tup[0],tup[1])]))\n",
    "  rdd_reduce= rdd_expbefore_reduce.reduceByKey(lambda a, b: a+b)\n",
    "  return rdd_reduce.map(lambda tup:InvertedIndex.write_a_posting_list(tup, bucket_to_save))"
   ]
  },
  {
   "cell_type": "markdown",
   "source": [
    "# Create Title dict"
   ],
   "metadata": {
    "collapsed": false,
    "pycharm": {
     "name": "#%% md\n"
    }
   }
  },
  {
   "cell_type": "code",
   "execution_count": 41,
   "id": "11820683",
   "metadata": {
    "pycharm": {
     "name": "#%%\n"
    }
   },
   "outputs": [
    {
     "name": "stderr",
     "output_type": "stream",
     "text": [
      "                                                                                \r"
     ]
    }
   ],
   "source": [
    "# save in dict for each doc_id the title\n",
    "title_dict = {}\n",
    "for title, doc_id in doc_title_pairs.collect():\n",
    "    title_dict[doc_id] = title"
   ]
  },
  {
   "cell_type": "markdown",
   "source": [
    "# Create doc_len dict"
   ],
   "metadata": {
    "collapsed": false,
    "pycharm": {
     "name": "#%% md\n"
    }
   }
  },
  {
   "cell_type": "code",
   "execution_count": 42,
   "id": "d1125802",
   "metadata": {
    "pycharm": {
     "name": "#%%\n"
    }
   },
   "outputs": [
    {
     "name": "stderr",
     "output_type": "stream",
     "text": [
      "                                                                                \r"
     ]
    },
    {
     "name": "stdout",
     "output_type": "stream",
     "text": [
      "2806\n"
     ]
    }
   ],
   "source": [
    "word = re.compile(r\"\"\"[\\#\\@\\w](['\\-]?\\w){2,24}\"\"\", re.UNICODE)\n",
    "def get_doc_len(text_raw, doc_id):\n",
    "    return doc_id, len(list(word.finditer(text_raw.lower())))\n",
    "\n",
    "pair = doc_body_pairs.map(lambda x : get_doc_len(x[0],x[1]))\n",
    "doc_len = Counter()\n",
    "for doc_id,len_d in pair.collect():\n",
    "    doc_len[doc_id] = len_d\n",
    "\n",
    "with open(\"doc_len.pkl\", 'wb') as f:\n",
    "  pickle.dump(doc_len, f)\n",
    "print(doc_len[60283633])"
   ]
  },
  {
   "cell_type": "markdown",
   "source": [
    "# Reading from bucket index and read posting loc"
   ],
   "metadata": {
    "collapsed": false,
    "pycharm": {
     "name": "#%% md\n"
    }
   }
  },
  {
   "cell_type": "code",
   "execution_count": null,
   "outputs": [],
   "source": [
    "from contextlib import closing\n",
    "TUPLE_SIZE = 6\n",
    "\n",
    "def read_posting_list(inverted, w, bucket_name):\n",
    "  with closing(InvertedIndex.MultiFileReader()) as reader:\n",
    "    locs = inverted.posting_locs[w]\n",
    "    b = reader.read(bucket_name, locs, inverted.df[w] * TUPLE_SIZE)\n",
    "    posting_list = []\n",
    "    for i in range(inverted.df[w]):\n",
    "      doc_id = int.from_bytes(b[i*TUPLE_SIZE:i*TUPLE_SIZE+4], 'big')\n",
    "      tf = int.from_bytes(b[i*TUPLE_SIZE+4:(i+1)*TUPLE_SIZE], 'big')\n",
    "      posting_list.append((doc_id, tf))\n",
    "    return posting_list\n",
    "\n",
    "def read_pkl_file_form_bucket(file_name, name_bucket):\n",
    "    \"\"\"\n",
    "        func that read pkl file from the bucket\n",
    "    Args:\n",
    "        name_bucket: name of the bucket\n",
    "        file_name: the name of the pkl file + dir : pagerank\\page_rank\n",
    "\n",
    "    Returns:\n",
    "            dict\n",
    "    \"\"\"\n",
    "    # access to the bucket\n",
    "    bucket = storage.Client().get_bucket(name_bucket)\n",
    "    blob = bucket.get_blob(f'{file_name}.pkl')\n",
    "    if blob:\n",
    "      with blob.open(\"rb\") as pkl_file:\n",
    "          return pickle.load(pkl_file)"
   ],
   "metadata": {
    "collapsed": false,
    "pycharm": {
     "name": "#%%\n"
    }
   }
  },
  {
   "cell_type": "markdown",
   "id": "ff983324",
   "metadata": {
    "pycharm": {
     "name": "#%% md\n"
    }
   },
   "source": [
    "# Indexing Magic"
   ]
  },
  {
   "cell_type": "code",
   "execution_count": 44,
   "id": "d85e9894",
   "metadata": {
    "pycharm": {
     "name": "#%%\n"
    },
    "scrolled": false
   },
   "outputs": [],
   "source": [
    "def make_inverted_index(part_name: str) ->None:\n",
    "    \"\"\"\n",
    "     func that create for each type : body , title .... inverter index\n",
    "    Args:\n",
    "      part_name: String body ,title ,anchor\n",
    "\n",
    "    Returns: None\n",
    "\n",
    "    \"\"\"\n",
    "    word_counts = None\n",
    "    bucket_name_to_save = \"\"\n",
    "    if part_name == \"body\":\n",
    "      # word counts map\n",
    "      bucket_name_to_save = \"bucket_itamar_body\"\n",
    "      word_counts = doc_body_pairs.flatMap(lambda x: word_count(x[0], x[1]))\n",
    "\n",
    "    elif part_name == \"title\":\n",
    "      # word counts map\n",
    "      bucket_name_to_save = \"bucket_itamar_title\"\n",
    "      word_counts = doc_title_pairs.flatMap(lambda x: word_count(x[0], x[1]))\n",
    "\n",
    "    elif part_name == \"anchor\":\n",
    "      # word counts map\n",
    "      bucket_name_to_save = \"bucket_itamar_anchor\"\n",
    "      word_counts = doc_anchor_pairs.flatMap(lambda x: word_count(x[0], x[1]))\n",
    "\n",
    "    postings_filtered = word_counts.groupByKey().mapValues(reduce_word_counts)\n",
    "    # filtering postings and calculate df\n",
    "    if part_name == \"body\":\n",
    "        # word counts map\n",
    "        postings_filtered = postings_filtered.filter(lambda x: len(x[1])>50)\n",
    "\n",
    "    w2df = calculate_df(postings_filtered)\n",
    "    w2df_dict = w2df.collectAsMap()\n",
    "    # partition posting lists and write out\n",
    "    _ = partition_postings_and_write(postings_filtered, bucket_name_to_save).collect()\n",
    "    # collect all posting lists locations into one super-set\n",
    "    super_posting_locs = defaultdict(list)\n",
    "    for blob in client.list_blobs(bucket_name_to_save, prefix='postings_gcp'):\n",
    "      if not blob.name.endswith(\"pickle\"):\n",
    "        continue\n",
    "      with blob.open(\"rb\") as f:\n",
    "        posting_locs = pickle.load(f)\n",
    "        for k, v in posting_locs.items():\n",
    "          super_posting_locs[k].extend(v)\n",
    "\n",
    "      # Create inverted index instance\n",
    "    inverted = InvertedIndex()\n",
    "    # adding the title of all the docs\n",
    "    inverted.title = title_dict\n",
    "    if part_name == \"body\":\n",
    "        inverted.doc_len = doc_len\n",
    "    # save the len of the entire corpus\n",
    "    inverted.n = n\n",
    "    # Adding the posting locations dictionary to the inverted index\n",
    "    inverted.posting_locs = super_posting_locs\n",
    "    # Add the token - df dictionary to the inverted index\n",
    "    inverted.df = w2df_dict\n",
    "    # write the global stats out\n",
    "    inverted.write_index('.', f'index_{part_name}')\n",
    "    # upload to gs\n",
    "    index_src = f\"index_{part_name}.pkl\"\n",
    "    index_dst = f'gs://{bucket_name_to_save}/postings_gcp/{index_src}'\n",
    "    !gsutil cp $index_src $index_dst"
   ]
  },
  {
   "cell_type": "code",
   "execution_count": null,
   "id": "55c8764e",
   "metadata": {
    "id": "0b5d7296",
    "nbgrader": {
     "grade": false,
     "grade_id": "cell-index_construction",
     "locked": false,
     "schema_version": 3,
     "solution": true,
     "task": false
    },
    "pycharm": {
     "is_executing": true,
     "name": "#%%\n"
    }
   },
   "outputs": [],
   "source": [
    "# make all inverters index\n",
    "make_inverted_index(\"title\")\n",
    "make_inverted_index(\"anchor\")\n",
    "make_inverted_index(\"body\")\n"
   ]
  },
  {
   "cell_type": "markdown",
   "id": "c52dee14",
   "metadata": {
    "id": "fc0667a9",
    "nbgrader": {
     "grade": false,
     "grade_id": "cell-2a6d655c112e79c5",
     "locked": true,
     "schema_version": 3,
     "solution": false,
     "task": false
    },
    "pycharm": {
     "name": "#%% md\n"
    }
   },
   "source": [
    "# PageRank"
   ]
  },
  {
   "cell_type": "code",
   "execution_count": null,
   "id": "31a516e2",
   "metadata": {
    "id": "yVjnTvQsegc-",
    "pycharm": {
     "name": "#%%\n"
    }
   },
   "outputs": [],
   "source": [
    "# Put your `generate_graph` function here\n",
    "def generate_graph(pages):\n",
    "  ''' Compute the directed graph generated by wiki links.\n",
    "  Parameters:\n",
    "  -----------\n",
    "    pages: RDD\n",
    "      An RDD where each row consists of one wikipedia articles with 'id' and \n",
    "      'anchor_text'.\n",
    "  Returns:\n",
    "  --------\n",
    "    edges: RDD\n",
    "      An RDD where each row represents an edge in the directed graph created by\n",
    "      the wikipedia links. The first entry should the source page id and the \n",
    "      second entry is the destination page id. No duplicates should be present. \n",
    "    vertices: RDD\n",
    "      An RDD where each row represents a vetrix (node) in the directed graph \n",
    "      created by the wikipedia links. No duplicates should be present. \n",
    "  '''\n",
    "  edges= pages.flatMap(lambda k:map(lambda p:(k['id'],p[0]),k['anchor_text'])).distinct()\n",
    "  vertices_1= pages.map(lambda k:k[0])\n",
    "  vertices_2_anchor=pages.flatMap(lambda k:k[1])\n",
    "  vertices_from_anchor= vertices_2_anchor.map(lambda k:k[0])\n",
    "  vertices_union= vertices_1.union(vertices_from_anchor)\n",
    "  vertices= vertices_union.distinct().map(lambda k:(k,))\n",
    "\n",
    "  return edges, vertices"
   ]
  },
  {
   "cell_type": "code",
   "execution_count": null,
   "id": "6bc05ba3",
   "metadata": {
    "id": "db005700",
    "nbgrader": {
     "grade": false,
     "grade_id": "cell-PageRank",
     "locked": false,
     "schema_version": 3,
     "solution": true,
     "task": false
    },
    "pycharm": {
     "name": "#%%\n"
    }
   },
   "outputs": [],
   "source": [
    "pages_links = spark.read.parquet(\"gs://wikidata_preprocessed/*\").select(\"id\", \"anchor_text\").rdd\n",
    "\n",
    "pages_links = spark.read.parquet(*paths).select(\"id\", \"anchor_text\").rdd\n",
    "# construct the graph\n",
    "edges, vertices = generate_graph(pages_links)\n",
    "# compute PageRank\n",
    "edgesDF = edges.toDF(['src', 'dst']).repartition(124, 'src')\n",
    "verticesDF = vertices.toDF(['id']).repartition(124, 'id')\n",
    "g = GraphFrame(verticesDF, edgesDF)\n",
    "pr_results = g.pageRank(resetProbability=0.15, maxIter=6)\n",
    "pr = pr_results.vertices.select(\"id\", \"pagerank\")\n",
    "# pr = pr.sort(col('pagerank').desc())\n",
    "# save the page rank dict\n",
    "pr = pr.toPandas().to_dict()\n",
    "pr = pd.DataFrame(pr)\n",
    "dict_pr = dict(zip(pr.id, pr.pagerank))\n",
    "#save the dict in pkl\n",
    "with open('page_rank.pkl', 'wb') as file:\n",
    "  pickle.dump(dict_pr, file)\n"
   ]
  },
  {
   "cell_type": "markdown",
   "id": "96e9a610",
   "metadata": {
    "id": "7f39m5R5TzZ2",
    "pycharm": {
     "name": "#%% md\n"
    }
   },
   "source": [
    "# Page view"
   ]
  },
  {
   "cell_type": "code",
   "execution_count": null,
   "outputs": [],
   "source": [
    "# Paths\n",
    "# Using user page views (as opposed to spiders and automated traffic) for the\n",
    "# month of August 2021\n",
    "pv_path = 'https://dumps.wikimedia.org/other/pageview_complete/monthly/2021/2021-08/pageviews-202108-user.bz2'\n",
    "p = Path(pv_path)\n",
    "pv_name = p.name\n",
    "pv_temp = f'{p.stem}-4dedup.txt'\n",
    "pv_clean = f'{p.stem}.pkl'\n",
    "# Download the file (2.3GB)\n",
    "!wget -N $pv_path\n",
    "# Filter for English pages, and keep just two fields: article ID (3) and monthly\n",
    "# total number of page views (5). Then, remove lines with article id or page\n",
    "# view values that are not a sequence of digits.\n",
    "!bzcat $pv_name | grep \"^en\\.wikipedia\" | cut -d' ' -f3,5 | grep -P \"^\\d+\\s\\d+$\" > $pv_temp\n",
    "# Create a Counter (dictionary) that sums up the pages views for the same\n",
    "# article, resulting in a mapping from article id to total page views.\n",
    "wid2pv = Counter()\n",
    "with open(pv_temp, 'rt') as f:\n",
    "  for line in f:\n",
    "    parts = line.split(' ')\n",
    "    wid2pv.update({int(parts[0]): int(parts[1])})\n",
    "# write out the counter as binary file (pickle it)\n",
    "with open(pv_clean, 'wb') as f:\n",
    "  pickle.dump(wid2pv, f)\n"
   ],
   "metadata": {
    "collapsed": false,
    "pycharm": {
     "name": "#%%\n"
    }
   }
  }
 ],
 "metadata": {
  "celltoolbar": "Create Assignment",
  "colab": {
   "collapsed_sections": [],
   "name": "assignment3_gcp.ipynb",
   "provenance": [],
   "toc_visible": true
  },
  "kernelspec": {
   "display_name": "PySpark",
   "language": "python",
   "name": "pyspark"
  },
  "language_info": {
   "codemirror_mode": {
    "name": "ipython",
    "version": 3
   },
   "file_extension": ".py",
   "mimetype": "text/x-python",
   "name": "python",
   "nbconvert_exporter": "python",
   "pygments_lexer": "ipython3",
   "version": "3.8.15"
  },
  "vscode": {
   "interpreter": {
    "hash": "87df3f972d4a7d70f51716522c6b4120ab3bac837cd9e63eab3623068c7989bc"
   }
  }
 },
 "nbformat": 4,
 "nbformat_minor": 5
}